{
 "cells": [
  {
   "cell_type": "markdown",
   "metadata": {},
   "source": [
    "## Pyspark Dataframes\n",
    "- Filter Operation\n",
    "- &, |, ==\n",
    "- ~"
   ]
  },
  {
   "cell_type": "code",
   "execution_count": 5,
   "metadata": {},
   "outputs": [],
   "source": [
    "from pyspark.sql import SparkSession\n",
    "spark = SparkSession.builder.appName('dataframe').getOrCreate()\n"
   ]
  },
  {
   "cell_type": "code",
   "execution_count": 6,
   "metadata": {},
   "outputs": [
    {
     "name": "stdout",
     "output_type": "stream",
     "text": [
      "+---------------+----+------+\n",
      "|YearsExperience| Age|Salary|\n",
      "+---------------+----+------+\n",
      "|            1.1|21.0| 39343|\n",
      "|            1.3|21.5| 46205|\n",
      "|            1.5|21.7| 37731|\n",
      "|            2.0|22.0| 43525|\n",
      "|            2.2|22.2| 39891|\n",
      "|            2.9|23.0| 56642|\n",
      "|            3.0|23.0| 60150|\n",
      "|            3.2|23.3| 54445|\n",
      "|            3.2|23.3| 64445|\n",
      "|            3.7|23.6| 57189|\n",
      "|            3.9|23.9| 63218|\n",
      "|            4.0|24.0| 55794|\n",
      "|            4.0|24.0| 56957|\n",
      "|            4.1|24.0| 57081|\n",
      "|            4.5|25.0| 61111|\n",
      "|            4.9|25.0| 67938|\n",
      "|            5.1|26.0| 66029|\n",
      "|            5.3|27.0| 83088|\n",
      "|            5.9|28.0| 81363|\n",
      "|            6.0|29.0| 93940|\n",
      "+---------------+----+------+\n",
      "only showing top 20 rows\n",
      "\n"
     ]
    }
   ],
   "source": [
    "df_pyspark = spark.read.csv('wages.csv', header = True, inferSchema = True)\n",
    "df_pyspark.show()"
   ]
  },
  {
   "cell_type": "markdown",
   "metadata": {},
   "source": [
    "### Filter Operations"
   ]
  },
  {
   "cell_type": "code",
   "execution_count": 7,
   "metadata": {},
   "outputs": [
    {
     "name": "stdout",
     "output_type": "stream",
     "text": [
      "+---------------+---+------+\n",
      "|YearsExperience|Age|Salary|\n",
      "+---------------+---+------+\n",
      "+---------------+---+------+\n",
      "\n"
     ]
    }
   ],
   "source": [
    "# Salary of People less than or equal to 20000\n",
    "df_pyspark.filter(\"Salary<=20000\").show()"
   ]
  },
  {
   "cell_type": "code",
   "execution_count": 11,
   "metadata": {},
   "outputs": [
    {
     "name": "stdout",
     "output_type": "stream",
     "text": [
      "+----+---------------+\n",
      "| Age|YearsExperience|\n",
      "+----+---------------+\n",
      "|29.0|            6.0|\n",
      "|30.0|            6.8|\n",
      "|30.0|            7.1|\n",
      "|31.0|            7.9|\n",
      "|32.0|            8.2|\n",
      "|33.0|            8.7|\n",
      "|34.0|            9.0|\n",
      "|35.0|            9.5|\n",
      "|36.0|            9.6|\n",
      "|37.0|           10.3|\n",
      "|38.0|           10.5|\n",
      "+----+---------------+\n",
      "\n"
     ]
    }
   ],
   "source": [
    "# Age and YearsExperience of people more than 90000\n",
    "df_pyspark.filter(\"Salary>90000\").select(['Age', 'YearsExperience']).show()"
   ]
  },
  {
   "cell_type": "code",
   "execution_count": 10,
   "metadata": {},
   "outputs": [
    {
     "name": "stdout",
     "output_type": "stream",
     "text": [
      "+---------------+----+------+\n",
      "|YearsExperience| Age|Salary|\n",
      "+---------------+----+------+\n",
      "|            1.1|21.0| 39343|\n",
      "|            1.3|21.5| 46205|\n",
      "|            1.5|21.7| 37731|\n",
      "|            2.0|22.0| 43525|\n",
      "|            2.2|22.2| 39891|\n",
      "+---------------+----+------+\n",
      "\n"
     ]
    }
   ],
   "source": [
    "# Filter using Multiple Conditions\n",
    "df_pyspark.filter((df_pyspark['Salary']>=30000)&(df_pyspark['Salary']<=50000)).show()"
   ]
  },
  {
   "cell_type": "code",
   "execution_count": null,
   "metadata": {},
   "outputs": [],
   "source": []
  }
 ],
 "metadata": {
  "kernelspec": {
   "display_name": "Python 3",
   "language": "python",
   "name": "python3"
  },
  "language_info": {
   "codemirror_mode": {
    "name": "ipython",
    "version": 3
   },
   "file_extension": ".py",
   "mimetype": "text/x-python",
   "name": "python",
   "nbconvert_exporter": "python",
   "pygments_lexer": "ipython3",
   "version": "3.8.5"
  }
 },
 "nbformat": 4,
 "nbformat_minor": 4
}
