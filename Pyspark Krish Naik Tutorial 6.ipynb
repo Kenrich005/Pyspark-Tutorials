{
 "cells": [
  {
   "cell_type": "markdown",
   "metadata": {},
   "source": [
    "### Examples of Pyspark ML"
   ]
  },
  {
   "cell_type": "code",
   "execution_count": 1,
   "metadata": {},
   "outputs": [],
   "source": [
    "from pyspark.sql import SparkSession\n",
    "spark = SparkSession.builder.appName('Missing').getOrCreate()"
   ]
  },
  {
   "cell_type": "code",
   "execution_count": 2,
   "metadata": {},
   "outputs": [
    {
     "name": "stdout",
     "output_type": "stream",
     "text": [
      "+---------------+----+------+\n",
      "|YearsExperience| Age|Salary|\n",
      "+---------------+----+------+\n",
      "|            1.1|21.0| 39343|\n",
      "|            1.3|21.5| 46205|\n",
      "|            1.5|21.7| 37731|\n",
      "|            2.0|22.0| 43525|\n",
      "|            2.2|22.2| 39891|\n",
      "|            2.9|23.0| 56642|\n",
      "|            3.0|23.0| 60150|\n",
      "|            3.2|23.3| 54445|\n",
      "|            3.2|23.3| 64445|\n",
      "|            3.7|23.6| 57189|\n",
      "|            3.9|23.9| 63218|\n",
      "|            4.0|24.0| 55794|\n",
      "|            4.0|24.0| 56957|\n",
      "|            4.1|24.0| 57081|\n",
      "|            4.5|25.0| 61111|\n",
      "|            4.9|25.0| 67938|\n",
      "|            5.1|26.0| 66029|\n",
      "|            5.3|27.0| 83088|\n",
      "|            5.9|28.0| 81363|\n",
      "|            6.0|29.0| 93940|\n",
      "+---------------+----+------+\n",
      "only showing top 20 rows\n",
      "\n"
     ]
    }
   ],
   "source": [
    "# Read the dataset\n",
    "training = spark.read.csv('wages.csv', header = True, inferSchema = True)\n",
    "training.show()"
   ]
  },
  {
   "cell_type": "code",
   "execution_count": null,
   "metadata": {},
   "outputs": [],
   "source": []
  }
 ],
 "metadata": {
  "kernelspec": {
   "display_name": "Python 3",
   "language": "python",
   "name": "python3"
  },
  "language_info": {
   "codemirror_mode": {
    "name": "ipython",
    "version": 3
   },
   "file_extension": ".py",
   "mimetype": "text/x-python",
   "name": "python",
   "nbconvert_exporter": "python",
   "pygments_lexer": "ipython3",
   "version": "3.8.5"
  }
 },
 "nbformat": 4,
 "nbformat_minor": 4
}
