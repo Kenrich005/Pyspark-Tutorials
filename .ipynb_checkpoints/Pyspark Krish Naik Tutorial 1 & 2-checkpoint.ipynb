{
 "cells": [
  {
   "cell_type": "code",
   "execution_count": 1,
   "metadata": {},
   "outputs": [
    {
     "data": {
      "text/plain": [
       "'C:\\\\Users\\\\KennyD\\\\Notebooks\\\\Pyspark Tutorials'"
      ]
     },
     "execution_count": 1,
     "metadata": {},
     "output_type": "execute_result"
    }
   ],
   "source": [
    "pwd()"
   ]
  },
  {
   "cell_type": "code",
   "execution_count": 2,
   "metadata": {},
   "outputs": [
    {
     "name": "stdout",
     "output_type": "stream",
     "text": [
      "Collecting pyspark\n",
      "  Downloading pyspark-3.1.1.tar.gz (212.3 MB)\n",
      "Collecting py4j==0.10.9\n",
      "  Downloading py4j-0.10.9-py2.py3-none-any.whl (198 kB)\n",
      "Building wheels for collected packages: pyspark\n",
      "  Building wheel for pyspark (setup.py): started\n",
      "  Building wheel for pyspark (setup.py): finished with status 'done'\n",
      "  Created wheel for pyspark: filename=pyspark-3.1.1-py2.py3-none-any.whl size=212767609 sha256=9edbe6b61125660acc937e13729937f4562f553909d6d4c1fd60f8c6eca26215\n",
      "  Stored in directory: c:\\users\\kennyd\\appdata\\local\\pip\\cache\\wheels\\b3\\0e\\81\\264aeed961e43b9f6ba9ec81c8c540d2d7dccc52c6b51cbf22\n",
      "Successfully built pyspark\n",
      "Installing collected packages: py4j, pyspark\n",
      "Successfully installed py4j-0.10.9 pyspark-3.1.1\n"
     ]
    }
   ],
   "source": [
    "!pip install pyspark"
   ]
  },
  {
   "cell_type": "code",
   "execution_count": 3,
   "metadata": {},
   "outputs": [],
   "source": [
    "import pyspark"
   ]
  },
  {
   "cell_type": "code",
   "execution_count": 4,
   "metadata": {},
   "outputs": [],
   "source": [
    "from pyspark.sql import SparkSession"
   ]
  },
  {
   "cell_type": "code",
   "execution_count": 5,
   "metadata": {},
   "outputs": [],
   "source": [
    "spark = SparkSession.builder. appName('Practice'). getOrCreate()"
   ]
  },
  {
   "cell_type": "code",
   "execution_count": 6,
   "metadata": {},
   "outputs": [
    {
     "data": {
      "text/html": [
       "\n",
       "            <div>\n",
       "                <p><b>SparkSession - in-memory</b></p>\n",
       "                \n",
       "        <div>\n",
       "            <p><b>SparkContext</b></p>\n",
       "\n",
       "            <p><a href=\"http://LAPTOP-Q7U1JI9T:4040\">Spark UI</a></p>\n",
       "\n",
       "            <dl>\n",
       "              <dt>Version</dt>\n",
       "                <dd><code>v3.1.1</code></dd>\n",
       "              <dt>Master</dt>\n",
       "                <dd><code>local[*]</code></dd>\n",
       "              <dt>AppName</dt>\n",
       "                <dd><code>Practice</code></dd>\n",
       "            </dl>\n",
       "        </div>\n",
       "        \n",
       "            </div>\n",
       "        "
      ],
      "text/plain": [
       "<pyspark.sql.session.SparkSession at 0x2a441df1730>"
      ]
     },
     "execution_count": 6,
     "metadata": {},
     "output_type": "execute_result"
    }
   ],
   "source": [
    "spark"
   ]
  },
  {
   "cell_type": "code",
   "execution_count": 7,
   "metadata": {},
   "outputs": [],
   "source": [
    "df_pyspark = spark.read.csv('iris.csv')"
   ]
  },
  {
   "cell_type": "code",
   "execution_count": 8,
   "metadata": {},
   "outputs": [
    {
     "name": "stdout",
     "output_type": "stream",
     "text": [
      "+-----------+----------+-----------+----------+-----------+\n",
      "|        _c0|       _c1|        _c2|       _c3|        _c4|\n",
      "+-----------+----------+-----------+----------+-----------+\n",
      "|sepallength|sepalwidth|petallength|petalwidth|      class|\n",
      "|        5.1|       3.5|        1.4|       0.2|Iris-setosa|\n",
      "|        4.9|       3.0|        1.4|       0.2|Iris-setosa|\n",
      "|        4.7|       3.2|        1.3|       0.2|Iris-setosa|\n",
      "|        4.6|       3.1|        1.5|       0.2|Iris-setosa|\n",
      "|        5.0|       3.6|        1.4|       0.2|Iris-setosa|\n",
      "|        5.4|       3.9|        1.7|       0.4|Iris-setosa|\n",
      "|        4.6|       3.4|        1.4|       0.3|Iris-setosa|\n",
      "|        5.0|       3.4|        1.5|       0.2|Iris-setosa|\n",
      "|        4.4|       2.9|        1.4|       0.2|Iris-setosa|\n",
      "|        4.9|       3.1|        1.5|       0.1|Iris-setosa|\n",
      "|        5.4|       3.7|        1.5|       0.2|Iris-setosa|\n",
      "|        4.8|       3.4|        1.6|       0.2|Iris-setosa|\n",
      "|        4.8|       3.0|        1.4|       0.1|Iris-setosa|\n",
      "|        4.3|       3.0|        1.1|       0.1|Iris-setosa|\n",
      "|        5.8|       4.0|        1.2|       0.2|Iris-setosa|\n",
      "|        5.7|       4.4|        1.5|       0.4|Iris-setosa|\n",
      "|        5.4|       3.9|        1.3|       0.4|Iris-setosa|\n",
      "|        5.1|       3.5|        1.4|       0.3|Iris-setosa|\n",
      "|        5.7|       3.8|        1.7|       0.3|Iris-setosa|\n",
      "+-----------+----------+-----------+----------+-----------+\n",
      "only showing top 20 rows\n",
      "\n"
     ]
    }
   ],
   "source": [
    "df_pyspark.show()"
   ]
  },
  {
   "cell_type": "code",
   "execution_count": 9,
   "metadata": {},
   "outputs": [],
   "source": [
    "# Read the dataset\n",
    "df_pyspark = spark.read.option('header','true').csv('iris.csv')"
   ]
  },
  {
   "cell_type": "code",
   "execution_count": 10,
   "metadata": {},
   "outputs": [
    {
     "data": {
      "text/plain": [
       "pyspark.sql.dataframe.DataFrame"
      ]
     },
     "execution_count": 10,
     "metadata": {},
     "output_type": "execute_result"
    }
   ],
   "source": [
    "type(df_pyspark)"
   ]
  },
  {
   "cell_type": "code",
   "execution_count": 11,
   "metadata": {},
   "outputs": [
    {
     "name": "stdout",
     "output_type": "stream",
     "text": [
      "+-----------+----------+-----------+----------+-----------+\n",
      "|sepallength|sepalwidth|petallength|petalwidth|      class|\n",
      "+-----------+----------+-----------+----------+-----------+\n",
      "|        5.1|       3.5|        1.4|       0.2|Iris-setosa|\n",
      "|        4.9|       3.0|        1.4|       0.2|Iris-setosa|\n",
      "|        4.7|       3.2|        1.3|       0.2|Iris-setosa|\n",
      "|        4.6|       3.1|        1.5|       0.2|Iris-setosa|\n",
      "|        5.0|       3.6|        1.4|       0.2|Iris-setosa|\n",
      "|        5.4|       3.9|        1.7|       0.4|Iris-setosa|\n",
      "|        4.6|       3.4|        1.4|       0.3|Iris-setosa|\n",
      "|        5.0|       3.4|        1.5|       0.2|Iris-setosa|\n",
      "|        4.4|       2.9|        1.4|       0.2|Iris-setosa|\n",
      "|        4.9|       3.1|        1.5|       0.1|Iris-setosa|\n",
      "|        5.4|       3.7|        1.5|       0.2|Iris-setosa|\n",
      "|        4.8|       3.4|        1.6|       0.2|Iris-setosa|\n",
      "|        4.8|       3.0|        1.4|       0.1|Iris-setosa|\n",
      "|        4.3|       3.0|        1.1|       0.1|Iris-setosa|\n",
      "|        5.8|       4.0|        1.2|       0.2|Iris-setosa|\n",
      "|        5.7|       4.4|        1.5|       0.4|Iris-setosa|\n",
      "|        5.4|       3.9|        1.3|       0.4|Iris-setosa|\n",
      "|        5.1|       3.5|        1.4|       0.3|Iris-setosa|\n",
      "|        5.7|       3.8|        1.7|       0.3|Iris-setosa|\n",
      "|        5.1|       3.8|        1.5|       0.3|Iris-setosa|\n",
      "+-----------+----------+-----------+----------+-----------+\n",
      "only showing top 20 rows\n",
      "\n"
     ]
    }
   ],
   "source": [
    "df_pyspark.show()"
   ]
  },
  {
   "cell_type": "code",
   "execution_count": 13,
   "metadata": {},
   "outputs": [
    {
     "data": {
      "text/plain": [
       "[Row(sepallength='5.1', sepalwidth='3.5', petallength='1.4', petalwidth='0.2', class='Iris-setosa'),\n",
       " Row(sepallength='4.9', sepalwidth='3.0', petallength='1.4', petalwidth='0.2', class='Iris-setosa'),\n",
       " Row(sepallength='4.7', sepalwidth='3.2', petallength='1.3', petalwidth='0.2', class='Iris-setosa')]"
      ]
     },
     "execution_count": 13,
     "metadata": {},
     "output_type": "execute_result"
    }
   ],
   "source": [
    "df_pyspark.head(3)"
   ]
  },
  {
   "cell_type": "code",
   "execution_count": 14,
   "metadata": {},
   "outputs": [
    {
     "name": "stdout",
     "output_type": "stream",
     "text": [
      "root\n",
      " |-- sepallength: string (nullable = true)\n",
      " |-- sepalwidth: string (nullable = true)\n",
      " |-- petallength: string (nullable = true)\n",
      " |-- petalwidth: string (nullable = true)\n",
      " |-- class: string (nullable = true)\n",
      "\n"
     ]
    }
   ],
   "source": [
    "df_pyspark.printSchema()"
   ]
  },
  {
   "cell_type": "code",
   "execution_count": 16,
   "metadata": {},
   "outputs": [
    {
     "name": "stdout",
     "output_type": "stream",
     "text": [
      "root\n",
      " |-- sepallength: double (nullable = true)\n",
      " |-- sepalwidth: double (nullable = true)\n",
      " |-- petallength: double (nullable = true)\n",
      " |-- petalwidth: double (nullable = true)\n",
      " |-- class: string (nullable = true)\n",
      "\n"
     ]
    }
   ],
   "source": [
    "# Read the dataset\n",
    "df_pyspark1 = spark.read.option('header','true').csv('iris.csv', inferSchema = True)\n",
    "df_pyspark1.printSchema()"
   ]
  },
  {
   "cell_type": "code",
   "execution_count": 17,
   "metadata": {},
   "outputs": [
    {
     "name": "stdout",
     "output_type": "stream",
     "text": [
      "root\n",
      " |-- sepallength: double (nullable = true)\n",
      " |-- sepalwidth: double (nullable = true)\n",
      " |-- petallength: double (nullable = true)\n",
      " |-- petalwidth: double (nullable = true)\n",
      " |-- class: string (nullable = true)\n",
      "\n"
     ]
    }
   ],
   "source": [
    "df_pyspark2 = spark.read.csv('iris.csv',header = True, inferSchema = True)\n",
    "df_pyspark2.printSchema()"
   ]
  },
  {
   "cell_type": "code",
   "execution_count": 18,
   "metadata": {},
   "outputs": [
    {
     "data": {
      "text/plain": [
       "['sepallength', 'sepalwidth', 'petallength', 'petalwidth', 'class']"
      ]
     },
     "execution_count": 18,
     "metadata": {},
     "output_type": "execute_result"
    }
   ],
   "source": [
    "df_pyspark.columns"
   ]
  },
  {
   "cell_type": "code",
   "execution_count": 19,
   "metadata": {},
   "outputs": [
    {
     "data": {
      "text/plain": [
       "DataFrame[class: string]"
      ]
     },
     "execution_count": 19,
     "metadata": {},
     "output_type": "execute_result"
    }
   ],
   "source": [
    "# To select a particular column\n",
    "df_pyspark.select('class')"
   ]
  },
  {
   "cell_type": "code",
   "execution_count": 20,
   "metadata": {},
   "outputs": [
    {
     "name": "stdout",
     "output_type": "stream",
     "text": [
      "+-----------+\n",
      "|      class|\n",
      "+-----------+\n",
      "|Iris-setosa|\n",
      "|Iris-setosa|\n",
      "|Iris-setosa|\n",
      "|Iris-setosa|\n",
      "|Iris-setosa|\n",
      "|Iris-setosa|\n",
      "|Iris-setosa|\n",
      "|Iris-setosa|\n",
      "|Iris-setosa|\n",
      "|Iris-setosa|\n",
      "|Iris-setosa|\n",
      "|Iris-setosa|\n",
      "|Iris-setosa|\n",
      "|Iris-setosa|\n",
      "|Iris-setosa|\n",
      "|Iris-setosa|\n",
      "|Iris-setosa|\n",
      "|Iris-setosa|\n",
      "|Iris-setosa|\n",
      "|Iris-setosa|\n",
      "+-----------+\n",
      "only showing top 20 rows\n",
      "\n"
     ]
    }
   ],
   "source": [
    "df_pyspark.select('class').show()"
   ]
  },
  {
   "cell_type": "code",
   "execution_count": 22,
   "metadata": {},
   "outputs": [
    {
     "data": {
      "text/plain": [
       "DataFrame[sepallength: string, sepalwidth: string]"
      ]
     },
     "execution_count": 22,
     "metadata": {},
     "output_type": "execute_result"
    }
   ],
   "source": [
    "# Select multiple columns\n",
    "df_pyspark.select(['sepallength','sepalwidth'])"
   ]
  },
  {
   "cell_type": "code",
   "execution_count": 24,
   "metadata": {},
   "outputs": [
    {
     "data": {
      "text/plain": [
       "[('sepallength', 'string'),\n",
       " ('sepalwidth', 'string'),\n",
       " ('petallength', 'string'),\n",
       " ('petalwidth', 'string'),\n",
       " ('class', 'string')]"
      ]
     },
     "execution_count": 24,
     "metadata": {},
     "output_type": "execute_result"
    }
   ],
   "source": [
    "df_pyspark.dtypes"
   ]
  },
  {
   "cell_type": "code",
   "execution_count": 25,
   "metadata": {},
   "outputs": [
    {
     "data": {
      "text/plain": [
       "DataFrame[summary: string, sepallength: string, sepalwidth: string, petallength: string, petalwidth: string, class: string]"
      ]
     },
     "execution_count": 25,
     "metadata": {},
     "output_type": "execute_result"
    }
   ],
   "source": [
    "df_pyspark.describe()"
   ]
  },
  {
   "cell_type": "code",
   "execution_count": 26,
   "metadata": {},
   "outputs": [
    {
     "name": "stdout",
     "output_type": "stream",
     "text": [
      "+-------+------------------+-------------------+------------------+------------------+--------------+\n",
      "|summary|       sepallength|         sepalwidth|       petallength|        petalwidth|         class|\n",
      "+-------+------------------+-------------------+------------------+------------------+--------------+\n",
      "|  count|               150|                150|               150|               150|           150|\n",
      "|   mean| 5.843333333333335| 3.0540000000000007|3.7586666666666693|1.1986666666666672|          null|\n",
      "| stddev|0.8280661279778637|0.43359431136217375| 1.764420419952262|0.7631607417008414|          null|\n",
      "|    min|               4.3|                2.0|               1.0|               0.1|   Iris-setosa|\n",
      "|    max|               7.9|                4.4|               6.9|               2.5|Iris-virginica|\n",
      "+-------+------------------+-------------------+------------------+------------------+--------------+\n",
      "\n"
     ]
    }
   ],
   "source": [
    "df_pyspark.describe().show()"
   ]
  },
  {
   "cell_type": "code",
   "execution_count": 31,
   "metadata": {},
   "outputs": [],
   "source": [
    "# Adding columns in DataFrame\n",
    "df_pyspark3 = df_pyspark.withColumn('Avgwidth', (df_pyspark['sepalwidth']+df_pyspark['petalwidth'])/2)"
   ]
  },
  {
   "cell_type": "code",
   "execution_count": 32,
   "metadata": {},
   "outputs": [
    {
     "data": {
      "text/plain": [
       "[Row(sepallength='5.1', sepalwidth='3.5', petallength='1.4', petalwidth='0.2', class='Iris-setosa', Avgwidth=1.85),\n",
       " Row(sepallength='4.9', sepalwidth='3.0', petallength='1.4', petalwidth='0.2', class='Iris-setosa', Avgwidth=1.6)]"
      ]
     },
     "execution_count": 32,
     "metadata": {},
     "output_type": "execute_result"
    }
   ],
   "source": [
    "df_pyspark3.head(2)"
   ]
  },
  {
   "cell_type": "code",
   "execution_count": 34,
   "metadata": {},
   "outputs": [],
   "source": [
    "# Drop the columns\n",
    "df_pyspark4 = df_pyspark3.drop('Avgwidth')"
   ]
  },
  {
   "cell_type": "code",
   "execution_count": 36,
   "metadata": {},
   "outputs": [
    {
     "data": {
      "text/plain": [
       "[Row(sepallength='5.1', sepalwidth='3.5', petallength='1.4', petalwidth='0.2', class='Iris-setosa'),\n",
       " Row(sepallength='4.9', sepalwidth='3.0', petallength='1.4', petalwidth='0.2', class='Iris-setosa')]"
      ]
     },
     "execution_count": 36,
     "metadata": {},
     "output_type": "execute_result"
    }
   ],
   "source": [
    "df_pyspark4.head(2)"
   ]
  },
  {
   "cell_type": "code",
   "execution_count": null,
   "metadata": {},
   "outputs": [],
   "source": [
    "# Rename the columns\n",
    "df_pyspark5 = df_pyspark4.withColumnRenamed('sepallenght','Sepal Length')"
   ]
  }
 ],
 "metadata": {
  "kernelspec": {
   "display_name": "Python 3",
   "language": "python",
   "name": "python3"
  },
  "language_info": {
   "codemirror_mode": {
    "name": "ipython",
    "version": 3
   },
   "file_extension": ".py",
   "mimetype": "text/x-python",
   "name": "python",
   "nbconvert_exporter": "python",
   "pygments_lexer": "ipython3",
   "version": "3.8.5"
  }
 },
 "nbformat": 4,
 "nbformat_minor": 4
}
